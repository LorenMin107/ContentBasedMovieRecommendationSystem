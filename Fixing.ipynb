{
 "cells": [
  {
   "cell_type": "code",
   "id": "initial_id",
   "metadata": {
    "collapsed": true,
    "ExecuteTime": {
     "end_time": "2024-08-07T04:54:36.733991Z",
     "start_time": "2024-08-07T04:54:34.836550Z"
    }
   },
   "source": "import pandas as pd",
   "outputs": [],
   "execution_count": 1
  },
  {
   "metadata": {
    "ExecuteTime": {
     "end_time": "2024-08-07T04:54:59.832706Z",
     "start_time": "2024-08-07T04:54:57.790631Z"
    }
   },
   "cell_type": "code",
   "source": "df = pd.read_csv('data.csv')",
   "id": "30c84cd8bcac938d",
   "outputs": [],
   "execution_count": 2
  },
  {
   "metadata": {
    "ExecuteTime": {
     "end_time": "2024-08-07T04:55:02.488379Z",
     "start_time": "2024-08-07T04:55:02.215320Z"
    }
   },
   "cell_type": "code",
   "source": "df.rename(columns={'title': 'movie_title'}, inplace=True)",
   "id": "48800dfa8493f0e9",
   "outputs": [],
   "execution_count": 3
  },
  {
   "metadata": {
    "ExecuteTime": {
     "end_time": "2024-08-07T04:55:08.949441Z",
     "start_time": "2024-08-07T04:55:08.891049Z"
    }
   },
   "cell_type": "code",
   "source": "df.drop(columns=['id'], inplace=True)",
   "id": "c69c9128a3f7c2ce",
   "outputs": [],
   "execution_count": 4
  },
  {
   "metadata": {
    "ExecuteTime": {
     "end_time": "2024-08-07T04:55:27.519699Z",
     "start_time": "2024-08-07T04:55:27.134886Z"
    }
   },
   "cell_type": "code",
   "source": "df = df[['director_name', 'actor_1_name', 'actor_2_name', 'actor_3_name', 'genres', 'movie_title', 'comb']]",
   "id": "f6b02eca3a7098fc",
   "outputs": [],
   "execution_count": 5
  },
  {
   "metadata": {
    "ExecuteTime": {
     "end_time": "2024-08-07T04:55:47.526720Z",
     "start_time": "2024-08-07T04:55:47.403211Z"
    }
   },
   "cell_type": "code",
   "source": "df ",
   "id": "5b996798ce0b2ebf",
   "outputs": [
    {
     "data": {
      "text/plain": [
       "              director_name      actor_1_name        actor_2_name  \\\n",
       "0                 Urban Gad      Asta Nielsen  Valdemar Psilander   \n",
       "1                 Urban Gad      Asta Nielsen            Max Obal   \n",
       "2        Charles L. Gaskill     Helen Gardner      Pearl Sindelar   \n",
       "3       Francesco Bertolini    Salvatore Papa     Arturo Pirovano   \n",
       "4               Alfred Lind    Rasmus Ottesen    Emilie Otterdahl   \n",
       "...                     ...               ...                 ...   \n",
       "126619      Pernilla August  Sverrir Gudnason  Karin Franz Körlof   \n",
       "126620      Antoni Nykowski   Mateusz Janicki   Sandra Drzymalska   \n",
       "126621      Thierry Poiraud      Alban Lenoir     Charlie Bruneau   \n",
       "126622        Estela Renner           unknown             unknown   \n",
       "126623     Richard Zelniker       Luke Baines        Myko Olivier   \n",
       "\n",
       "               actor_3_name                   genres  \\\n",
       "0        Gunnar Helsengreen                    Drama   \n",
       "1            Robert Valberg                    Drama   \n",
       "2             Miss Fielding            Drama History   \n",
       "3       Giuseppe de Liguoro  Adventure Drama Fantasy   \n",
       "4                 Lili Beck                    Drama   \n",
       "...                     ...                      ...   \n",
       "126619           Liv Mjönes            Drama Romance   \n",
       "126620         Maria Debska   Adventure Drama Family   \n",
       "126621      Tiphaine Daviot            Comedy Horror   \n",
       "126622              unknown              Documentary   \n",
       "126623     Evanne Friedmann              Crime Drama   \n",
       "\n",
       "                           movie_title  \\\n",
       "0                       den sorte drøm   \n",
       "1                       die verräterin   \n",
       "2                            cleopatra   \n",
       "3                            l'inferno   \n",
       "4                  den flyvende cirkus   \n",
       "...                                ...   \n",
       "126619           den allvarsamma leken   \n",
       "126620  pan samochodzik i templariusze   \n",
       "126621                goal of the dead   \n",
       "126622              muito além do peso   \n",
       "126623                  as night comes   \n",
       "\n",
       "                                                     comb  \n",
       "0       Asta Nielsen Valdemar Psilander Gunnar Helseng...  \n",
       "1       Asta Nielsen Max Obal Robert Valberg Urban Gad...  \n",
       "2       Helen Gardner Pearl Sindelar Miss Fielding Cha...  \n",
       "3       Salvatore Papa Arturo Pirovano Giuseppe de Lig...  \n",
       "4       Rasmus Ottesen Emilie Otterdahl Lili Beck Alfr...  \n",
       "...                                                   ...  \n",
       "126619  Sverrir Gudnason Karin Franz Körlof Liv Mjönes...  \n",
       "126620  Mateusz Janicki Sandra Drzymalska Maria Debska...  \n",
       "126621  Alban Lenoir Charlie Bruneau Tiphaine Daviot T...  \n",
       "126622  unknown unknown unknown Estela Renner Documentary  \n",
       "126623  Luke Baines Myko Olivier Evanne Friedmann Rich...  \n",
       "\n",
       "[126624 rows x 7 columns]"
      ],
      "text/html": [
       "<div>\n",
       "<style scoped>\n",
       "    .dataframe tbody tr th:only-of-type {\n",
       "        vertical-align: middle;\n",
       "    }\n",
       "\n",
       "    .dataframe tbody tr th {\n",
       "        vertical-align: top;\n",
       "    }\n",
       "\n",
       "    .dataframe thead th {\n",
       "        text-align: right;\n",
       "    }\n",
       "</style>\n",
       "<table border=\"1\" class=\"dataframe\">\n",
       "  <thead>\n",
       "    <tr style=\"text-align: right;\">\n",
       "      <th></th>\n",
       "      <th>director_name</th>\n",
       "      <th>actor_1_name</th>\n",
       "      <th>actor_2_name</th>\n",
       "      <th>actor_3_name</th>\n",
       "      <th>genres</th>\n",
       "      <th>movie_title</th>\n",
       "      <th>comb</th>\n",
       "    </tr>\n",
       "  </thead>\n",
       "  <tbody>\n",
       "    <tr>\n",
       "      <th>0</th>\n",
       "      <td>Urban Gad</td>\n",
       "      <td>Asta Nielsen</td>\n",
       "      <td>Valdemar Psilander</td>\n",
       "      <td>Gunnar Helsengreen</td>\n",
       "      <td>Drama</td>\n",
       "      <td>den sorte drøm</td>\n",
       "      <td>Asta Nielsen Valdemar Psilander Gunnar Helseng...</td>\n",
       "    </tr>\n",
       "    <tr>\n",
       "      <th>1</th>\n",
       "      <td>Urban Gad</td>\n",
       "      <td>Asta Nielsen</td>\n",
       "      <td>Max Obal</td>\n",
       "      <td>Robert Valberg</td>\n",
       "      <td>Drama</td>\n",
       "      <td>die verräterin</td>\n",
       "      <td>Asta Nielsen Max Obal Robert Valberg Urban Gad...</td>\n",
       "    </tr>\n",
       "    <tr>\n",
       "      <th>2</th>\n",
       "      <td>Charles L. Gaskill</td>\n",
       "      <td>Helen Gardner</td>\n",
       "      <td>Pearl Sindelar</td>\n",
       "      <td>Miss Fielding</td>\n",
       "      <td>Drama History</td>\n",
       "      <td>cleopatra</td>\n",
       "      <td>Helen Gardner Pearl Sindelar Miss Fielding Cha...</td>\n",
       "    </tr>\n",
       "    <tr>\n",
       "      <th>3</th>\n",
       "      <td>Francesco Bertolini</td>\n",
       "      <td>Salvatore Papa</td>\n",
       "      <td>Arturo Pirovano</td>\n",
       "      <td>Giuseppe de Liguoro</td>\n",
       "      <td>Adventure Drama Fantasy</td>\n",
       "      <td>l'inferno</td>\n",
       "      <td>Salvatore Papa Arturo Pirovano Giuseppe de Lig...</td>\n",
       "    </tr>\n",
       "    <tr>\n",
       "      <th>4</th>\n",
       "      <td>Alfred Lind</td>\n",
       "      <td>Rasmus Ottesen</td>\n",
       "      <td>Emilie Otterdahl</td>\n",
       "      <td>Lili Beck</td>\n",
       "      <td>Drama</td>\n",
       "      <td>den flyvende cirkus</td>\n",
       "      <td>Rasmus Ottesen Emilie Otterdahl Lili Beck Alfr...</td>\n",
       "    </tr>\n",
       "    <tr>\n",
       "      <th>...</th>\n",
       "      <td>...</td>\n",
       "      <td>...</td>\n",
       "      <td>...</td>\n",
       "      <td>...</td>\n",
       "      <td>...</td>\n",
       "      <td>...</td>\n",
       "      <td>...</td>\n",
       "    </tr>\n",
       "    <tr>\n",
       "      <th>126619</th>\n",
       "      <td>Pernilla August</td>\n",
       "      <td>Sverrir Gudnason</td>\n",
       "      <td>Karin Franz Körlof</td>\n",
       "      <td>Liv Mjönes</td>\n",
       "      <td>Drama Romance</td>\n",
       "      <td>den allvarsamma leken</td>\n",
       "      <td>Sverrir Gudnason Karin Franz Körlof Liv Mjönes...</td>\n",
       "    </tr>\n",
       "    <tr>\n",
       "      <th>126620</th>\n",
       "      <td>Antoni Nykowski</td>\n",
       "      <td>Mateusz Janicki</td>\n",
       "      <td>Sandra Drzymalska</td>\n",
       "      <td>Maria Debska</td>\n",
       "      <td>Adventure Drama Family</td>\n",
       "      <td>pan samochodzik i templariusze</td>\n",
       "      <td>Mateusz Janicki Sandra Drzymalska Maria Debska...</td>\n",
       "    </tr>\n",
       "    <tr>\n",
       "      <th>126621</th>\n",
       "      <td>Thierry Poiraud</td>\n",
       "      <td>Alban Lenoir</td>\n",
       "      <td>Charlie Bruneau</td>\n",
       "      <td>Tiphaine Daviot</td>\n",
       "      <td>Comedy Horror</td>\n",
       "      <td>goal of the dead</td>\n",
       "      <td>Alban Lenoir Charlie Bruneau Tiphaine Daviot T...</td>\n",
       "    </tr>\n",
       "    <tr>\n",
       "      <th>126622</th>\n",
       "      <td>Estela Renner</td>\n",
       "      <td>unknown</td>\n",
       "      <td>unknown</td>\n",
       "      <td>unknown</td>\n",
       "      <td>Documentary</td>\n",
       "      <td>muito além do peso</td>\n",
       "      <td>unknown unknown unknown Estela Renner Documentary</td>\n",
       "    </tr>\n",
       "    <tr>\n",
       "      <th>126623</th>\n",
       "      <td>Richard Zelniker</td>\n",
       "      <td>Luke Baines</td>\n",
       "      <td>Myko Olivier</td>\n",
       "      <td>Evanne Friedmann</td>\n",
       "      <td>Crime Drama</td>\n",
       "      <td>as night comes</td>\n",
       "      <td>Luke Baines Myko Olivier Evanne Friedmann Rich...</td>\n",
       "    </tr>\n",
       "  </tbody>\n",
       "</table>\n",
       "<p>126624 rows × 7 columns</p>\n",
       "</div>"
      ]
     },
     "execution_count": 6,
     "metadata": {},
     "output_type": "execute_result"
    }
   ],
   "execution_count": 6
  },
  {
   "metadata": {
    "ExecuteTime": {
     "end_time": "2024-08-07T05:01:56.806175Z",
     "start_time": "2024-08-07T05:01:55.814798Z"
    }
   },
   "cell_type": "code",
   "source": "df.to_csv('main_data.csv', index=False)",
   "id": "37bee3afb62fc1f8",
   "outputs": [],
   "execution_count": 7
  }
 ],
 "metadata": {
  "kernelspec": {
   "display_name": "Python 3",
   "language": "python",
   "name": "python3"
  },
  "language_info": {
   "codemirror_mode": {
    "name": "ipython",
    "version": 2
   },
   "file_extension": ".py",
   "mimetype": "text/x-python",
   "name": "python",
   "nbconvert_exporter": "python",
   "pygments_lexer": "ipython2",
   "version": "2.7.6"
  }
 },
 "nbformat": 4,
 "nbformat_minor": 5
}
